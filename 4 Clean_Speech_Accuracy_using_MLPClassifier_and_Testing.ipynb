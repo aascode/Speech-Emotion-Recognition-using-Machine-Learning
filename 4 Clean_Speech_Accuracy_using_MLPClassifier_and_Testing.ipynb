{
 "cells": [
  {
   "cell_type": "code",
   "execution_count": 1,
   "metadata": {},
   "outputs": [],
   "source": [
    "import soundfile # to read audio file\n",
    "import numpy as np #multi-dimensional arrays\n",
    "import librosa # to extract speech features\n",
    "import glob #to retrieve files/pathnames\n",
    "import os #provides functions for creating and removing a directory(folder)\n",
    "import pickle # to save model after training\n",
    "from sklearn.model_selection import train_test_split # for splitting training and testing\n",
    "from sklearn.neural_network import MLPClassifier # multi-layer perceptron model\n",
    "from sklearn.metrics import accuracy_score # to measure how good we are"
   ]
  },
  {
   "cell_type": "code",
   "execution_count": 2,
   "metadata": {},
   "outputs": [],
   "source": [
    "#extract features from soundfile\n",
    "def extract_feature(file_name, **kwargs):\n",
    "    mfcc = kwargs.get(\"mfcc\")\n",
    "    chroma = kwargs.get(\"chroma\")\n",
    "    mel = kwargs.get(\"mel\")\n",
    "    contrast = kwargs.get(\"contrast\")\n",
    "    tonnetz = kwargs.get(\"tonnetz\")\n",
    "    with soundfile.SoundFile(file_name) as sound_file:\n",
    "        X = sound_file.read(dtype=\"float32\")\n",
    "        sample_rate=sound_file.samplerate\n",
    "        if chroma:\n",
    "            stft=np.abs(librosa.stft(X))\n",
    "        result=np.array([])\n",
    "        if mfcc:\n",
    "            mfccs=np.mean(librosa.feature.mfcc(y=X, sr=sample_rate, n_mfcc=40).T, axis=0)\n",
    "        result=np.hstack((result, mfccs))\n",
    "        if chroma:\n",
    "            chroma=np.mean(librosa.feature.chroma_stft(S=stft, sr=sample_rate).T,axis=0)\n",
    "        result=np.hstack((result, chroma))\n",
    "        if mel:\n",
    "            mel=np.mean(librosa.feature.melspectrogram(X, sr=sample_rate).T,axis=0)\n",
    "        result=np.hstack((result, mel))\n",
    "        if contrast:\n",
    "            contrast=np.mean(librosa.feature.spectral_contrast(S=stft, sr=srate).T,axis=0)\n",
    "            result=np.hstack((result, contrast))\n",
    "        if tonnetz:\n",
    "            tonnetz=np.mean(librosa.feature.tonnetz(y=librosa.effects.harmonic(X), sr=srate).T,axis=0)\n",
    "            result=np.hstack((result, tonnetz))\n",
    "    return result"
   ]
  },
  {
   "cell_type": "code",
   "execution_count": 3,
   "metadata": {},
   "outputs": [],
   "source": [
    "#Emotions available in RAVDESS Dataset\n",
    "emotions={\n",
    "  '01':'neutral',\n",
    "  '02':'calm',\n",
    "  '03':'happy',\n",
    "  '04':'sad',\n",
    "  '05':'angry',\n",
    "  '06':'fearful',\n",
    "  '07':'disgust',\n",
    "  '08':'surprised'\n",
    "}\n",
    "#Emotions we want to observe\n",
    "observed_emotions=['calm', 'happy', 'fearful', 'disgust']"
   ]
  },
  {
   "cell_type": "code",
   "execution_count": 4,
   "metadata": {},
   "outputs": [],
   "source": [
    "#load the data\n",
    "def load_data(test_size=0.25):\n",
    "    x,y=[],[]\n",
    "    answer = 0\n",
    "    for file in glob.glob(r'E:\\\\DataFlair\\\\clean_speech\\\\*.wav'):\n",
    "        file_name=os.path.basename(file)\n",
    "        emotion=emotions[file_name.split(\"-\")[2]]\n",
    "        if emotion not in observed_emotions:\n",
    "            answer += 1\n",
    "            continue\n",
    "        feature=extract_feature(file, mfcc=True, chroma=True, mel=True)\n",
    "        x.append(feature)\n",
    "        y.append([emotion,file_name])\n",
    "    return train_test_split(np.array(x), y, test_size=test_size, random_state=9)"
   ]
  },
  {
   "cell_type": "code",
   "execution_count": 5,
   "metadata": {},
   "outputs": [
    {
     "name": "stdout",
     "output_type": "stream",
     "text": [
      "(576, 180) (192, 180) (576, 2) (192, 2)\n",
      "(576,) (192,)\n"
     ]
    }
   ],
   "source": [
    "#Split the dataset\n",
    "#testing data 25%, training data 75%\n",
    "x_train,x_test,y_trai,y_tes=load_data(test_size=0.25)\n",
    "print(np.shape(x_train),np.shape(x_test), np.shape(y_trai),np.shape(y_tes))\n",
    "#mapping of testing data(predicted emotions) with corresponding filenames\n",
    "y_test_map = np.array(y_tes).T\n",
    "y_test = y_test_map[0]\n",
    "test_filename = y_test_map[1]\n",
    "y_train_map = np.array(y_trai).T\n",
    "y_train = y_train_map[0]\n",
    "train_filename = y_train_map[1]\n",
    "print(np.shape(y_train),np.shape(y_test))\n",
    "#print(*test_filename,sep=\"\\n\")"
   ]
  },
  {
   "cell_type": "code",
   "execution_count": 6,
   "metadata": {},
   "outputs": [
    {
     "name": "stdout",
     "output_type": "stream",
     "text": [
      "Features extracted: 180\n"
     ]
    }
   ],
   "source": [
    "#Get the shape(number of elements) of the training and testing datasets\n",
    "#print((x_train.shape[0], x_test.shape[0])) (576, 192)\n",
    "#Get the number of features extacted\n",
    "print(f'Features extracted: {x_train.shape[1]}')"
   ]
  },
  {
   "cell_type": "code",
   "execution_count": 9,
   "metadata": {},
   "outputs": [
    {
     "name": "stdout",
     "output_type": "stream",
     "text": [
      "Training the model...\n",
      "Accuracy: 84.90%\n"
     ]
    }
   ],
   "source": [
    "#Initialise MLPClassifier\n",
    "model_params = {\n",
    "    'alpha': 0.01,\n",
    "    'batch_size': 200,\n",
    "    'epsilon': 1e-08, \n",
    "    'hidden_layer_sizes': (600,), \n",
    "    'learning_rate': 'adaptive', \n",
    "    'max_iter': 500, \n",
    "}\n",
    "model1 = MLPClassifier(**model_params)\n",
    "#Train the model\n",
    "print(\"Training the model...\")\n",
    "model1.fit(x_train, y_train)\n",
    "#Predict values for test set\n",
    "y_pred = model1.predict(x_test)\n",
    "#Calculate accuracy\n",
    "accuracy = accuracy_score(y_true=y_test, y_pred=y_pred)\n",
    "print(\"Accuracy: {:.2f}%\".format(accuracy*100))"
   ]
  },
  {
   "cell_type": "code",
   "execution_count": 10,
   "metadata": {},
   "outputs": [],
   "source": [
    "#create pkl file to save model\n",
    "import pickle\n",
    "Pkl_Filename = \"Speech_Emotion_Detection_Model.pkl\"  \n",
    "\n",
    "with open(Pkl_Filename, 'wb') as file:  \n",
    "    pickle.dump(model1, file)"
   ]
  },
  {
   "cell_type": "code",
   "execution_count": 11,
   "metadata": {},
   "outputs": [
    {
     "data": {
      "text/plain": [
       "MLPClassifier(alpha=0.01, batch_size=200, hidden_layer_sizes=(600,),\n",
       "              learning_rate='adaptive', max_iter=500)"
      ]
     },
     "execution_count": 11,
     "metadata": {},
     "output_type": "execute_result"
    }
   ],
   "source": [
    "#load model from file\n",
    "with open(Pkl_Filename, 'rb') as file:  \n",
    "    Speech_Emotion_Detection_Model = pickle.load(file)\n",
    "\n",
    "Speech_Emotion_Detection_Model"
   ]
  },
  {
   "cell_type": "code",
   "execution_count": 12,
   "metadata": {},
   "outputs": [],
   "source": [
    "#Predict values for test set using saved model\n",
    "y_pred = Speech_Emotion_Detection_Model.predict(x_test)"
   ]
  },
  {
   "cell_type": "code",
   "execution_count": 13,
   "metadata": {},
   "outputs": [
    {
     "data": {
      "text/html": [
       "<div>\n",
       "<style scoped>\n",
       "    .dataframe tbody tr th:only-of-type {\n",
       "        vertical-align: middle;\n",
       "    }\n",
       "\n",
       "    .dataframe tbody tr th {\n",
       "        vertical-align: top;\n",
       "    }\n",
       "\n",
       "    .dataframe thead th {\n",
       "        text-align: right;\n",
       "    }\n",
       "</style>\n",
       "<table border=\"1\" class=\"dataframe\">\n",
       "  <thead>\n",
       "    <tr style=\"text-align: right;\">\n",
       "      <th></th>\n",
       "      <th>predictions</th>\n",
       "      <th>file_names</th>\n",
       "    </tr>\n",
       "  </thead>\n",
       "  <tbody>\n",
       "    <tr>\n",
       "      <th>0</th>\n",
       "      <td>fearful</td>\n",
       "      <td>03-01-06-01-02-02-01.wav</td>\n",
       "    </tr>\n",
       "    <tr>\n",
       "      <th>1</th>\n",
       "      <td>happy</td>\n",
       "      <td>03-01-03-01-02-01-21.wav</td>\n",
       "    </tr>\n",
       "    <tr>\n",
       "      <th>2</th>\n",
       "      <td>happy</td>\n",
       "      <td>03-01-07-01-02-02-04.wav</td>\n",
       "    </tr>\n",
       "    <tr>\n",
       "      <th>3</th>\n",
       "      <td>calm</td>\n",
       "      <td>03-01-02-02-01-02-24.wav</td>\n",
       "    </tr>\n",
       "    <tr>\n",
       "      <th>4</th>\n",
       "      <td>disgust</td>\n",
       "      <td>03-01-07-01-02-02-19.wav</td>\n",
       "    </tr>\n",
       "    <tr>\n",
       "      <th>...</th>\n",
       "      <td>...</td>\n",
       "      <td>...</td>\n",
       "    </tr>\n",
       "    <tr>\n",
       "      <th>187</th>\n",
       "      <td>disgust</td>\n",
       "      <td>03-01-07-01-02-02-14.wav</td>\n",
       "    </tr>\n",
       "    <tr>\n",
       "      <th>188</th>\n",
       "      <td>happy</td>\n",
       "      <td>03-01-03-02-02-02-02.wav</td>\n",
       "    </tr>\n",
       "    <tr>\n",
       "      <th>189</th>\n",
       "      <td>fearful</td>\n",
       "      <td>03-01-06-02-01-01-14.wav</td>\n",
       "    </tr>\n",
       "    <tr>\n",
       "      <th>190</th>\n",
       "      <td>disgust</td>\n",
       "      <td>03-01-07-01-01-02-02.wav</td>\n",
       "    </tr>\n",
       "    <tr>\n",
       "      <th>191</th>\n",
       "      <td>calm</td>\n",
       "      <td>03-01-02-02-02-01-22.wav</td>\n",
       "    </tr>\n",
       "  </tbody>\n",
       "</table>\n",
       "<p>192 rows × 2 columns</p>\n",
       "</div>"
      ],
      "text/plain": [
       "    predictions                file_names\n",
       "0       fearful  03-01-06-01-02-02-01.wav\n",
       "1         happy  03-01-03-01-02-01-21.wav\n",
       "2         happy  03-01-07-01-02-02-04.wav\n",
       "3          calm  03-01-02-02-01-02-24.wav\n",
       "4       disgust  03-01-07-01-02-02-19.wav\n",
       "..          ...                       ...\n",
       "187     disgust  03-01-07-01-02-02-14.wav\n",
       "188       happy  03-01-03-02-02-02-02.wav\n",
       "189     fearful  03-01-06-02-01-01-14.wav\n",
       "190     disgust  03-01-07-01-01-02-02.wav\n",
       "191        calm  03-01-02-02-02-01-22.wav\n",
       "\n",
       "[192 rows x 2 columns]"
      ]
     },
     "execution_count": 13,
     "metadata": {},
     "output_type": "execute_result"
    }
   ],
   "source": [
    "#create csv file of filenames with emotions\n",
    "import numpy as np #multi-dimensional array\n",
    "import pandas as pd #data analysis\n",
    "y_pred1 = pd.DataFrame(y_pred, columns=['predictions'])\n",
    "y_pred1['file_names'] = test_filename\n",
    "#print(y_pred1)\n",
    "y_pred1.to_csv('predictionfinal.csv')\n",
    "y_pred1[:]"
   ]
  },
  {
   "cell_type": "code",
   "execution_count": 14,
   "metadata": {},
   "outputs": [
    {
     "name": "stdout",
     "output_type": "stream",
     "text": [
      "              precision    recall  f1-score   support\n",
      "\n",
      "        calm       0.92      0.91      0.92        54\n",
      "     disgust       0.80      0.84      0.82        44\n",
      "     fearful       0.88      0.79      0.83        53\n",
      "       happy       0.78      0.85      0.81        41\n",
      "\n",
      "    accuracy                           0.85       192\n",
      "   macro avg       0.85      0.85      0.85       192\n",
      "weighted avg       0.85      0.85      0.85       192\n",
      "\n"
     ]
    }
   ],
   "source": [
    "#To get Classification Report\n",
    "from sklearn.metrics import classification_report #Classification Report\n",
    "print(classification_report(y_test,y_pred))"
   ]
  },
  {
   "cell_type": "code",
   "execution_count": 15,
   "metadata": {},
   "outputs": [
    {
     "data": {
      "image/png": "[encoded data removed]",
      "text/plain": [
       "<Figure size 432x288 with 2 Axes>"
      ]
     },
     "metadata": {
      "needs_background": "light"
     },
     "output_type": "display_data"
    }
   ],
   "source": [
    "#To Draw Confusion Matrix\n",
    "from sklearn.metrics import confusion_matrix #Confusion_Matrix\n",
    "import matplotlib.pyplot as plt #to create a figure & to plot area\n",
    "import pandas as pd #data analysis\n",
    "import seaborn as sns #data visualization based on matplotlib\n",
    "cm=confusion_matrix(y_test,y_pred)\n",
    "df_cm=pd.DataFrame(cm)\n",
    "sns.heatmap(df_cm,annot=True,fmt='')\n",
    "plt.title(\"Confusion Matrix\", size=20)\n",
    "plt.xlabel(\"Predicted Labels\", size=14)\n",
    "plt.ylabel(\"Actual Labels\", size=14)\n",
    "plt.savefig(\"Initial_Model_Confusion_Matrix.png\")\n",
    "plt.show()"
   ]
  },
  {
   "cell_type": "code",
   "execution_count": 16,
   "metadata": {},
   "outputs": [],
   "source": [
    "import pyaudio #to record and play audio\n",
    "import wave #read and write wav files\n",
    "THRESHOLD = 500\n",
    "CHUNK_SIZE = 1024\n",
    "FORMAT = pyaudio.paInt16\n",
    "RATE = 16000\n",
    "SILENCE = 30"
   ]
  },
  {
   "cell_type": "code",
   "execution_count": 17,
   "metadata": {},
   "outputs": [],
   "source": [
    "#Returns 'True' if below the 'silent' threshold\n",
    "def is_silent(snd_data):\n",
    "    return max(snd_data) < THRESHOLD"
   ]
  },
  {
   "cell_type": "code",
   "execution_count": 18,
   "metadata": {},
   "outputs": [],
   "source": [
    "#Average the volume out\n",
    "from array import array\n",
    "def normalize(snd_data):\n",
    "    MAXIMUM = 16384\n",
    "    times = float(MAXIMUM)/max(abs(i) for i in snd_data)\n",
    "    r = array('h')\n",
    "    for i in snd_data:\n",
    "        r.append(int(i*times))\n",
    "    return r"
   ]
  },
  {
   "cell_type": "code",
   "execution_count": 19,
   "metadata": {},
   "outputs": [],
   "source": [
    "#Trim the blank spots at the start and end\n",
    "def trim(snd_data):\n",
    "    def _trim(snd_data):\n",
    "        snd_started = False\n",
    "        r = array('h')\n",
    "        for i in snd_data:\n",
    "            if not snd_started and abs(i)>THRESHOLD:\n",
    "                snd_started = True\n",
    "                r.append(i)\n",
    "            elif snd_started:\n",
    "                r.append(i)\n",
    "        return r\n",
    "    # Trim to the left\n",
    "    snd_data = _trim(snd_data)\n",
    "    # Trim to the right\n",
    "    snd_data.reverse()\n",
    "    snd_data = _trim(snd_data)\n",
    "    snd_data.reverse()\n",
    "    return snd_data"
   ]
  },
  {
   "cell_type": "code",
   "execution_count": 20,
   "metadata": {},
   "outputs": [],
   "source": [
    "#Add silence to the start and end of 'snd_data' of length 'seconds' (float)\n",
    "def add_silence(snd_data, seconds):\n",
    "    r = array('h', [0 for i in range(int(seconds*RATE))])\n",
    "    r.extend(snd_data)\n",
    "    r.extend([0 for i in range(int(seconds*RATE))])\n",
    "    return r"
   ]
  },
  {
   "cell_type": "code",
   "execution_count": 21,
   "metadata": {},
   "outputs": [],
   "source": [
    "#Record words from the microphone and return the data as an array of signed shorts.\n",
    "#Normalizes the audio, trims silence from the start and end\n",
    "#and pads with 0.5 seconds of blank sound to make sure VLC et al can play it without getting chopped off.\n",
    "from sys import byteorder\n",
    "def record():\n",
    "    p = pyaudio.PyAudio()\n",
    "    stream = p.open(format=FORMAT, channels=1, rate=RATE,\n",
    "        input=True, output=True,\n",
    "        frames_per_buffer=CHUNK_SIZE)\n",
    "    num_silent = 0\n",
    "    snd_started = False\n",
    "    r = array('h')\n",
    "    while 1:\n",
    "        # little endian, signed short\n",
    "        snd_data = array('h', stream.read(CHUNK_SIZE))\n",
    "        if byteorder == 'big':\n",
    "            snd_data.byteswap()\n",
    "        r.extend(snd_data)\n",
    "        silent = is_silent(snd_data)\n",
    "        if silent and snd_started:\n",
    "            num_silent += 1\n",
    "        elif not silent and not snd_started:\n",
    "            snd_started = True\n",
    "        if snd_started and num_silent > SILENCE:\n",
    "            break\n",
    "    sample_width = p.get_sample_size(FORMAT)\n",
    "    stream.stop_stream()\n",
    "    stream.close()\n",
    "    p.terminate()\n",
    "    r = normalize(r)\n",
    "    r = trim(r)\n",
    "    r = add_silence(r, 0.5)\n",
    "    return sample_width, r"
   ]
  },
  {
   "cell_type": "code",
   "execution_count": 22,
   "metadata": {},
   "outputs": [],
   "source": [
    "#Records from the microphone and outputs the resulting data to path\n",
    "from struct import pack\n",
    "def record_to_file(path):\n",
    "    sample_width, data = record()\n",
    "    data = pack('<' + ('h'*len(data)), *data)\n",
    "    wf = wave.open(path, 'wb')\n",
    "    wf.setnchannels(1)\n",
    "    wf.setsampwidth(sample_width)\n",
    "    wf.setframerate(RATE)\n",
    "    wf.writeframes(data)\n",
    "    wf.close()"
   ]
  },
  {
   "cell_type": "code",
   "execution_count": 23,
   "metadata": {},
   "outputs": [
    {
     "name": "stdout",
     "output_type": "stream",
     "text": [
      "Please talk\n",
      "result: fearful\n"
     ]
    }
   ],
   "source": [
    "if __name__ == \"__main__\":\n",
    "    print(\"Please talk\")\n",
    "    filename = \"test.wav\"\n",
    "    # record the file (start talking)\n",
    "    record_to_file(filename)\n",
    "    # extract features and reshape it\n",
    "    features = extract_feature(filename, mfcc=True, chroma=True, mel=True).reshape(1, -1)\n",
    "    # predict\n",
    "    result = Speech_Emotion_Detection_Model.predict(features)[0]\n",
    "    # show the result !\n",
    "    print(\"result:\", result)"
   ]
  },
  {
   "cell_type": "code",
   "execution_count": null,
   "metadata": {},
   "outputs": [],
   "source": []
  }
 ],
 "metadata": {
  "kernelspec": {
   "display_name": "Python 3",
   "language": "python",
   "name": "python3"
  },
  "language_info": {
   "codemirror_mode": {
    "name": "ipython",
    "version": 3
   },
   "file_extension": ".py",
   "mimetype": "text/x-python",
   "name": "python",
   "nbconvert_exporter": "python",
   "pygments_lexer": "ipython3",
   "version": "3.8.5"
  }
 },
 "nbformat": 4,
 "nbformat_minor": 4
}
