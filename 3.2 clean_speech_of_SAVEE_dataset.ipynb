{
 "cells": [
  {
   "cell_type": "code",
   "execution_count": 2,
   "metadata": {},
   "outputs": [
    {
     "data": {
      "text/plain": [
       "480"
      ]
     },
     "execution_count": 2,
     "metadata": {},
     "output_type": "execute_result"
    }
   ],
   "source": [
    "#count number of files in SAVEE dataset\n",
    "import os\n",
    "os.listdir(path='E:\\Kaggle\\Survey Audio-Visual Expressed Emotion\\SAVEE')\n",
    "def getListOfFiles(dirName):\n",
    "    listOfFile=os.listdir(dirName)\n",
    "    allFiles=list()\n",
    "    for entry in listOfFile:\n",
    "        fullPath=os.path.join(dirName, entry)\n",
    "        if os.path.isdir(fullPath):\n",
    "            allFiles=allFiles + getListOfFiles(fullPath)\n",
    "        else:\n",
    "            allFiles.append(fullPath)\n",
    "    return allFiles\n",
    "\n",
    "dirName = 'E:\\Kaggle\\Survey Audio-Visual Expressed Emotion\\SAVEE'\n",
    "listOfFiles = getListOfFiles(dirName)\n",
    "len(listOfFiles)"
   ]
  },
  {
   "cell_type": "code",
   "execution_count": 3,
   "metadata": {},
   "outputs": [],
   "source": [
    "#Mask (remove unwanted voice)\n",
    "import pandas as pd\n",
    "import numpy as np\n",
    "def envelope(y, rate, threshold):\n",
    "    mask=[]\n",
    "    y=pd.Series(y).apply(np.abs)\n",
    "    y_mean = y.rolling(window=int(rate/10),  min_periods=1, center = True).mean()\n",
    "    for mean in y_mean:\n",
    "        if mean>threshold:\n",
    "            mask.append(True)\n",
    "        else:\n",
    "            mask.append(False)\n",
    "    return mask"
   ]
  },
  {
   "cell_type": "code",
   "execution_count": 12,
   "metadata": {},
   "outputs": [
    {
     "name": "stderr",
     "output_type": "stream",
     "text": [
      "100%|████████████████████████████████████████████████████████████████████████████████| 120/120 [00:50<00:00,  2.35it/s]\n"
     ]
    }
   ],
   "source": [
    "#load clean dataset\n",
    "from tqdm import tqdm\n",
    "import glob,pickle\n",
    "import librosa\n",
    "from scipy.io import wavfile\n",
    "for file in tqdm(glob.glob(r'E:\\\\Kaggle\\\\Survey Audio-Visual Expressed Emotion\\\\SAVEE\\\\Actor_01\\\\*.wav')):\n",
    "    file_name = os.path.basename(file)\n",
    "    signal , rate = librosa.load(file, sr=16000)\n",
    "    mask = envelope(signal,rate, 0.0005)\n",
    "    wavfile.write(filename= r'E:\\Kaggle\\Survey Audio-Visual Expressed Emotion\\clean_speech_of_SAVEE\\Actor_01\\\\'+str(file_name), rate=rate, data=signal[mask])"
   ]
  },
  {
   "cell_type": "code",
   "execution_count": 13,
   "metadata": {},
   "outputs": [
    {
     "name": "stderr",
     "output_type": "stream",
     "text": [
      "100%|████████████████████████████████████████████████████████████████████████████████| 120/120 [01:03<00:00,  1.90it/s]\n"
     ]
    }
   ],
   "source": [
    "#load clean dataset\n",
    "from tqdm import tqdm\n",
    "import glob,pickle\n",
    "import librosa\n",
    "from scipy.io import wavfile\n",
    "for file in tqdm(glob.glob(r'E:\\\\Kaggle\\\\Survey Audio-Visual Expressed Emotion\\\\SAVEE\\\\Actor_02\\\\*.wav')):\n",
    "    file_name = os.path.basename(file)\n",
    "    signal , rate = librosa.load(file, sr=16000)\n",
    "    mask = envelope(signal,rate, 0.0005)\n",
    "    wavfile.write(filename= r'E:\\Kaggle\\Survey Audio-Visual Expressed Emotion\\clean_speech_of_SAVEE\\Actor_02\\\\'+str(file_name), rate=rate, data=signal[mask])"
   ]
  },
  {
   "cell_type": "code",
   "execution_count": 14,
   "metadata": {},
   "outputs": [
    {
     "name": "stderr",
     "output_type": "stream",
     "text": [
      "100%|████████████████████████████████████████████████████████████████████████████████| 120/120 [00:55<00:00,  2.18it/s]\n"
     ]
    }
   ],
   "source": [
    "#load clean dataset\n",
    "from tqdm import tqdm\n",
    "import glob,pickle\n",
    "import librosa\n",
    "from scipy.io import wavfile\n",
    "for file in tqdm(glob.glob(r'E:\\\\Kaggle\\\\Survey Audio-Visual Expressed Emotion\\\\SAVEE\\\\Actor_03\\\\*.wav')):\n",
    "    file_name = os.path.basename(file)\n",
    "    signal , rate = librosa.load(file, sr=16000)\n",
    "    mask = envelope(signal,rate, 0.0005)\n",
    "    wavfile.write(filename= r'E:\\Kaggle\\Survey Audio-Visual Expressed Emotion\\clean_speech_of_SAVEE\\Actor_03\\\\'+str(file_name), rate=rate, data=signal[mask])"
   ]
  },
  {
   "cell_type": "code",
   "execution_count": 15,
   "metadata": {},
   "outputs": [
    {
     "name": "stderr",
     "output_type": "stream",
     "text": [
      "100%|████████████████████████████████████████████████████████████████████████████████| 120/120 [01:09<00:00,  1.73it/s]\n"
     ]
    }
   ],
   "source": [
    "#load clean dataset\n",
    "from tqdm import tqdm\n",
    "import glob,pickle\n",
    "import librosa\n",
    "from scipy.io import wavfile\n",
    "for file in tqdm(glob.glob(r'E:\\\\Kaggle\\\\Survey Audio-Visual Expressed Emotion\\\\SAVEE\\\\Actor_04\\\\*.wav')):\n",
    "    file_name = os.path.basename(file)\n",
    "    signal , rate = librosa.load(file, sr=16000)\n",
    "    mask = envelope(signal,rate, 0.0005)\n",
    "    wavfile.write(filename= r'E:\\Kaggle\\Survey Audio-Visual Expressed Emotion\\clean_speech_of_SAVEE\\Actor_04\\\\'+str(file_name), rate=rate, data=signal[mask])"
   ]
  }
 ],
 "metadata": {
  "kernelspec": {
   "display_name": "Python 3",
   "language": "python",
   "name": "python3"
  },
  "language_info": {
   "codemirror_mode": {
    "name": "ipython",
    "version": 3
   },
   "file_extension": ".py",
   "mimetype": "text/x-python",
   "name": "python",
   "nbconvert_exporter": "python",
   "pygments_lexer": "ipython3",
   "version": "3.8.5"
  }
 },
 "nbformat": 4,
 "nbformat_minor": 4
}
