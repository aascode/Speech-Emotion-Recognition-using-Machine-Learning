{
 "cells": [
  {
   "cell_type": "code",
   "execution_count": 1,
   "metadata": {},
   "outputs": [],
   "source": [
    "import soundfile # to read audio file\n",
    "import numpy as np #multi-dimensional arrays\n",
    "import librosa # to extract speech features\n",
    "import glob #to retrieve files/pathnames\n",
    "import os #provides functions for creating and removing a directory(folder)\n",
    "import pickle # to save model after training\n",
    "from sklearn.model_selection import train_test_split # for splitting training and testing\n",
    "from sklearn.neural_network import MLPClassifier # multi-layer perceptron model\n",
    "from sklearn.metrics import accuracy_score # to measure how good we are"
   ]
  },
  {
   "cell_type": "code",
   "execution_count": 2,
   "metadata": {},
   "outputs": [],
   "source": [
    "#extract features from soundfile\n",
    "def extract_feature(file_name, **kwargs):\n",
    "    mfcc = kwargs.get(\"mfcc\")\n",
    "    chroma = kwargs.get(\"chroma\")\n",
    "    mel = kwargs.get(\"mel\")\n",
    "    contrast = kwargs.get(\"contrast\")\n",
    "    tonnetz = kwargs.get(\"tonnetz\")\n",
    "    with soundfile.SoundFile(file_name) as sound_file:\n",
    "        X = sound_file.read(dtype=\"float32\")\n",
    "        sample_rate=sound_file.samplerate\n",
    "        if chroma:\n",
    "            stft=np.abs(librosa.stft(X))\n",
    "        result=np.array([])\n",
    "        if mfcc:\n",
    "            mfccs=np.mean(librosa.feature.mfcc(y=X, sr=sample_rate, n_mfcc=40).T, axis=0)\n",
    "        result=np.hstack((result, mfccs))\n",
    "        if chroma:\n",
    "            chroma=np.mean(librosa.feature.chroma_stft(S=stft, sr=sample_rate).T,axis=0)\n",
    "        result=np.hstack((result, chroma))\n",
    "        if mel:\n",
    "            mel=np.mean(librosa.feature.melspectrogram(X, sr=sample_rate).T,axis=0)\n",
    "        result=np.hstack((result, mel))\n",
    "        if contrast:\n",
    "            contrast=np.mean(librosa.feature.spectral_contrast(S=stft, sr=srate).T,axis=0)\n",
    "            result=np.hstack((result, contrast))\n",
    "        if tonnetz:\n",
    "            tonnetz=np.mean(librosa.feature.tonnetz(y=librosa.effects.harmonic(X), sr=srate).T,axis=0)\n",
    "            result=np.hstack((result, tonnetz))\n",
    "    return result"
   ]
  },
  {
   "cell_type": "code",
   "execution_count": 3,
   "metadata": {},
   "outputs": [],
   "source": [
    "#Emotions available in TESS Dataset\n",
    "emotions={\n",
    "  'neutral':'NEUTRAL',\n",
    "  'happy':'HAPPY',\n",
    "  'sad':'SAD',\n",
    "  'angry':'ANGRY',\n",
    "  'fear':'FEARFUL',\n",
    "  'disgust':'DISGUST',\n",
    "  'ps':'SURPRISE'\n",
    "}\n",
    "#Emotions we want to observe\n",
    "observed_emotions=['NEUTRAL', 'HAPPY', 'FEARFUL', 'DISGUST']"
   ]
  },
  {
   "cell_type": "code",
   "execution_count": 6,
   "metadata": {},
   "outputs": [],
   "source": [
    "#load the data\n",
    "def load_data(test_size=0.25):\n",
    "    x,y=[],[]\n",
    "    answer = 0\n",
    "    for file in glob.glob('E:\\Kaggle\\Toronto emotion speech set\\clean_speech_of_TESS\\*.wav'):\n",
    "        file_name=os.path.basename(file)\n",
    "        filename=file_name.split(\"_\")[2]\n",
    "        emotion=emotions[filename.split(\".wav\")[0]]\n",
    "        if emotion not in observed_emotions:\n",
    "            answer += 1\n",
    "            continue\n",
    "        feature=extract_feature(file, mfcc=True, chroma=True, mel=True)\n",
    "        x.append(feature)\n",
    "        y.append([emotion,file_name])\n",
    "    return train_test_split(np.array(x), y, test_size=test_size, random_state=9)"
   ]
  },
  {
   "cell_type": "code",
   "execution_count": 7,
   "metadata": {},
   "outputs": [
    {
     "name": "stdout",
     "output_type": "stream",
     "text": [
      "(1200, 180) (400, 180) (1200, 2) (400, 2)\n",
      "(1200,) (400,)\n"
     ]
    }
   ],
   "source": [
    "#Split the dataset\n",
    "#testing data 25%, training data 75%\n",
    "x_train,x_test,y_trai,y_tes=load_data(test_size=0.25)\n",
    "print(np.shape(x_train),np.shape(x_test), np.shape(y_trai),np.shape(y_tes))\n",
    "#mapping of testing data(predicted emotions) with corresponding filenames\n",
    "y_test_map = np.array(y_tes).T\n",
    "y_test = y_test_map[0]\n",
    "test_filename = y_test_map[1]\n",
    "y_train_map = np.array(y_trai).T\n",
    "y_train = y_train_map[0]\n",
    "train_filename = y_train_map[1]\n",
    "print(np.shape(y_train),np.shape(y_test))\n",
    "#print(*test_filename,sep=\"\\n\")"
   ]
  },
  {
   "cell_type": "code",
   "execution_count": 8,
   "metadata": {},
   "outputs": [
    {
     "name": "stdout",
     "output_type": "stream",
     "text": [
      "Features extracted: 180\n"
     ]
    }
   ],
   "source": [
    "#Get the shape(number of elements) of the training and testing datasets\n",
    "#print((x_train.shape[0], x_test.shape[0])) (576, 192)\n",
    "#Get the number of features extacted\n",
    "print(f'Features extracted: {x_train.shape[1]}')"
   ]
  },
  {
   "cell_type": "code",
   "execution_count": 9,
   "metadata": {},
   "outputs": [
    {
     "name": "stdout",
     "output_type": "stream",
     "text": [
      "Training the model...\n",
      "Accuracy: 100.00%\n"
     ]
    }
   ],
   "source": [
    "#Initialise MLPClassifier\n",
    "model_params = {\n",
    "    'alpha': 0.01,\n",
    "    'batch_size': 200,\n",
    "    'epsilon': 1e-08, \n",
    "    'hidden_layer_sizes': (600,), \n",
    "    'learning_rate': 'adaptive', \n",
    "    'max_iter': 500, \n",
    "}\n",
    "model = MLPClassifier(**model_params)\n",
    "#Train the model\n",
    "print(\"Training the model...\")\n",
    "model.fit(x_train, y_train)\n",
    "#Predict values for test set\n",
    "y_pred = model.predict(x_test)\n",
    "#Calculate accuracy\n",
    "accuracy = accuracy_score(y_true=y_test, y_pred=y_pred)\n",
    "print(\"Accuracy: {:.2f}%\".format(accuracy*100))"
   ]
  },
  {
   "cell_type": "code",
   "execution_count": 11,
   "metadata": {},
   "outputs": [],
   "source": [
    "#create pkl file to save model\n",
    "import pickle\n",
    "Pkl_Filename = \"Speech_Emotion_Detection_Model_TESS.pkl\"  \n",
    "\n",
    "with open(Pkl_Filename, 'wb') as file:  \n",
    "    pickle.dump(model, file)"
   ]
  },
  {
   "cell_type": "code",
   "execution_count": 12,
   "metadata": {},
   "outputs": [
    {
     "data": {
      "text/plain": [
       "MLPClassifier(alpha=0.01, batch_size=200, hidden_layer_sizes=(600,),\n",
       "              learning_rate='adaptive', max_iter=500)"
      ]
     },
     "execution_count": 12,
     "metadata": {},
     "output_type": "execute_result"
    }
   ],
   "source": [
    "#load model from file\n",
    "with open(Pkl_Filename, 'rb') as file:  \n",
    "    Speech_Emotion_Detection_Model_TESS = pickle.load(file)\n",
    "\n",
    "Speech_Emotion_Detection_Model_TESS"
   ]
  },
  {
   "cell_type": "code",
   "execution_count": 14,
   "metadata": {},
   "outputs": [],
   "source": [
    "#Predict values for test set using saved model\n",
    "y_pred = Speech_Emotion_Detection_Model_TESS.predict(x_test)"
   ]
  },
  {
   "cell_type": "code",
   "execution_count": 15,
   "metadata": {},
   "outputs": [
    {
     "data": {
      "text/html": [
       "<div>\n",
       "<style scoped>\n",
       "    .dataframe tbody tr th:only-of-type {\n",
       "        vertical-align: middle;\n",
       "    }\n",
       "\n",
       "    .dataframe tbody tr th {\n",
       "        vertical-align: top;\n",
       "    }\n",
       "\n",
       "    .dataframe thead th {\n",
       "        text-align: right;\n",
       "    }\n",
       "</style>\n",
       "<table border=\"1\" class=\"dataframe\">\n",
       "  <thead>\n",
       "    <tr style=\"text-align: right;\">\n",
       "      <th></th>\n",
       "      <th>predictions</th>\n",
       "      <th>file_names</th>\n",
       "    </tr>\n",
       "  </thead>\n",
       "  <tbody>\n",
       "    <tr>\n",
       "      <th>0</th>\n",
       "      <td>NEUTRAL</td>\n",
       "      <td>OAF_tell_neutral.wav</td>\n",
       "    </tr>\n",
       "    <tr>\n",
       "      <th>1</th>\n",
       "      <td>FEARFUL</td>\n",
       "      <td>YAF_ton_fear.wav</td>\n",
       "    </tr>\n",
       "    <tr>\n",
       "      <th>2</th>\n",
       "      <td>NEUTRAL</td>\n",
       "      <td>YAF_third_neutral.wav</td>\n",
       "    </tr>\n",
       "    <tr>\n",
       "      <th>3</th>\n",
       "      <td>HAPPY</td>\n",
       "      <td>OAF_tell_happy.wav</td>\n",
       "    </tr>\n",
       "    <tr>\n",
       "      <th>4</th>\n",
       "      <td>FEARFUL</td>\n",
       "      <td>OAF_chat_fear.wav</td>\n",
       "    </tr>\n",
       "    <tr>\n",
       "      <th>...</th>\n",
       "      <td>...</td>\n",
       "      <td>...</td>\n",
       "    </tr>\n",
       "    <tr>\n",
       "      <th>395</th>\n",
       "      <td>HAPPY</td>\n",
       "      <td>YAF_loaf_happy.wav</td>\n",
       "    </tr>\n",
       "    <tr>\n",
       "      <th>396</th>\n",
       "      <td>DISGUST</td>\n",
       "      <td>YAF_seize_disgust.wav</td>\n",
       "    </tr>\n",
       "    <tr>\n",
       "      <th>397</th>\n",
       "      <td>NEUTRAL</td>\n",
       "      <td>OAF_bite_neutral.wav</td>\n",
       "    </tr>\n",
       "    <tr>\n",
       "      <th>398</th>\n",
       "      <td>HAPPY</td>\n",
       "      <td>OAF_hit_happy.wav</td>\n",
       "    </tr>\n",
       "    <tr>\n",
       "      <th>399</th>\n",
       "      <td>HAPPY</td>\n",
       "      <td>YAF_whip_happy.wav</td>\n",
       "    </tr>\n",
       "  </tbody>\n",
       "</table>\n",
       "<p>400 rows × 2 columns</p>\n",
       "</div>"
      ],
      "text/plain": [
       "    predictions             file_names\n",
       "0       NEUTRAL   OAF_tell_neutral.wav\n",
       "1       FEARFUL       YAF_ton_fear.wav\n",
       "2       NEUTRAL  YAF_third_neutral.wav\n",
       "3         HAPPY     OAF_tell_happy.wav\n",
       "4       FEARFUL      OAF_chat_fear.wav\n",
       "..          ...                    ...\n",
       "395       HAPPY     YAF_loaf_happy.wav\n",
       "396     DISGUST  YAF_seize_disgust.wav\n",
       "397     NEUTRAL   OAF_bite_neutral.wav\n",
       "398       HAPPY      OAF_hit_happy.wav\n",
       "399       HAPPY     YAF_whip_happy.wav\n",
       "\n",
       "[400 rows x 2 columns]"
      ]
     },
     "execution_count": 15,
     "metadata": {},
     "output_type": "execute_result"
    }
   ],
   "source": [
    "#create csv file of filenames with emotions\n",
    "import numpy as np #multi-dimensional array\n",
    "import pandas as pd #data analysis\n",
    "y_pred1 = pd.DataFrame(y_pred, columns=['predictions'])\n",
    "y_pred1['file_names'] = test_filename\n",
    "#print(y_pred1)\n",
    "y_pred1.to_csv('TESS_predictionfinal.csv')\n",
    "y_pred1[:]"
   ]
  },
  {
   "cell_type": "code",
   "execution_count": 16,
   "metadata": {},
   "outputs": [
    {
     "name": "stdout",
     "output_type": "stream",
     "text": [
      "              precision    recall  f1-score   support\n",
      "\n",
      "     DISGUST       1.00      1.00      1.00        90\n",
      "     FEARFUL       1.00      1.00      1.00       107\n",
      "       HAPPY       1.00      1.00      1.00       103\n",
      "     NEUTRAL       1.00      1.00      1.00       100\n",
      "\n",
      "    accuracy                           1.00       400\n",
      "   macro avg       1.00      1.00      1.00       400\n",
      "weighted avg       1.00      1.00      1.00       400\n",
      "\n"
     ]
    }
   ],
   "source": [
    "#To get Classification Report\n",
    "from sklearn.metrics import classification_report #Classification Report\n",
    "print(classification_report(y_test,y_pred))"
   ]
  },
  {
   "cell_type": "code",
   "execution_count": 17,
   "metadata": {},
   "outputs": [
    {
     "data": {
      "image/png": "[encoded data removed]",
      "text/plain": [
       "<Figure size 432x288 with 2 Axes>"
      ]
     },
     "metadata": {
      "needs_background": "light"
     },
     "output_type": "display_data"
    }
   ],
   "source": [
    "#To Draw Confusion Matrix\n",
    "from sklearn.metrics import confusion_matrix #Confusion_Matrix\n",
    "import matplotlib.pyplot as plt #to create a figure & to plot area\n",
    "import pandas as pd #data analysis\n",
    "import seaborn as sns #data visualization based on matplotlib\n",
    "cm=confusion_matrix(y_test,y_pred)\n",
    "df_cm=pd.DataFrame(cm)\n",
    "sns.heatmap(df_cm,annot=True,fmt='')\n",
    "plt.title(\"Confusion Matrix\", size=20)\n",
    "plt.xlabel(\"Predicted Labels\", size=14)\n",
    "plt.ylabel(\"Actual Labels\", size=14)\n",
    "plt.savefig(\"TESS_Initial_Model_Confusion_Matrix.png\")\n",
    "plt.show()"
   ]
  }
 ],
 "metadata": {
  "kernelspec": {
   "display_name": "Python 3",
   "language": "python",
   "name": "python3"
  },
  "language_info": {
   "codemirror_mode": {
    "name": "ipython",
    "version": 3
   },
   "file_extension": ".py",
   "mimetype": "text/x-python",
   "name": "python",
   "nbconvert_exporter": "python",
   "pygments_lexer": "ipython3",
   "version": "3.8.5"
  }
 },
 "nbformat": 4,
 "nbformat_minor": 4
}
